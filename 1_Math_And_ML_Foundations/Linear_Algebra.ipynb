{
 "cells": [
  {
   "cell_type": "markdown",
   "metadata": {},
   "source": []
  },
  {
   "cell_type": "markdown",
   "metadata": {},
   "source": [
    "# Linear Algebra\n",
    "\n",
    "The Uniform Code of Military Justice specifies court martial for any officer who sends a soldier into battle without a weapon. In a similar fashion, students should be well armed with an understanding of linear algebra beofre they are sent out to learn naural networks.\n",
    "\n",
    "\n",
    "Linear algebra is the branch of mathematics that deals with vector spaces. A vector space is a collection of objects called vectors, which may be added together and multiplied by numbers, called scalars. Vectors are often used to represent data points, such as the features of a data set. Vectors are also used to represent model parameters, such as the weights and biases of a neural network.\n",
    "\n",
    "In order to better understand linear algebra, we will first review the basic concepts of scalars, vectors, matrices, and tensors.\n",
    "\n",
    "## Scalars\n",
    "\n",
    "To put it simply a scalar is just a number. For now this is all we need to know about scalars. We will revisit them later when we discuss tensors. All you have to know is that they are usually denoted by lower case letters, such as $s$ or $n$. You will also often see the extression \"Let $s \\in \\mathbb{R}$\" which means that $s$ is a scalar and is a member of the set of real numbers, or \"Let $n \\in \\mathbb{N}$\" which means that $n$ is a scalar and is a member of the set of natural numbers.\n",
    "\n",
    "## Vectors\n",
    "\n",
    "Vectors are one step above scalars. Vectors are a collection of numbers in the form of an array. Here is an example of a vector:\n",
    "\n",
    "$x = \\begin{bmatrix} x_1 \\\\ x_2 \\\\ x_3 \\end{bmatrix}$\n",
    "\n",
    "You can think of these numbers as points in space or features in a dataset. The numbers in the vector are called the components of the vector. The number of components in a vector is called the dimension of the vector. In the example above, the vector $x$ has three components and is a three dimensional vector. Vectors are usually denoted by lower case bold letters, such as $\\mathbf{x}$ or $\\mathbf{y}$. The components of a vector are usually denoted by lower case letters with subscripts, such as $x_1$ or $y_2$. The components of a vector can be accessed by their index, such as $x[0]$ or $y[1]$.\n",
    "\n",
    "To get a better understanding of how we will be using vectors in python lets try to write a simple vector operation.\n"
   ]
  },
  {
   "cell_type": "code",
   "execution_count": 13,
   "metadata": {},
   "outputs": [
    {
     "name": "stdout",
     "output_type": "stream",
     "text": [
      "--- Vector Operations ---\n",
      "Vector 1: [1 2 3]\n",
      "Vector 2: [4 5 6]\n",
      "Vector Addition: [5 7 9]\n",
      "Scalar Multiplication : [ 4 10 18]\n"
     ]
    }
   ],
   "source": [
    "import numpy as np\n",
    "\n",
    "# Function to demonstrate the use of vectors\n",
    "def vector_operations():\n",
    "    # Create a vector\n",
    "    vector = np.array([1, 2, 3])\n",
    "    print(\"Vector 1:\", vector)\n",
    "    \n",
    "    # Perform vector addition\n",
    "    vector2 = np.array([4, 5, 6])\n",
    "    print(\"Vector 2:\", vector2)\n",
    "\n",
    "    # Perform vector addition\n",
    "    print(\"Vector Addition:\", np.add(vector, vector2))\n",
    "    \n",
    "    # Perform scalar multiplication\n",
    "    print(\"Scalar Multiplication :\", np.multiply(vector, vector2))\n",
    "\n",
    "print(\"--- Vector Operations ---\")\n",
    "vector_operations()\n"
   ]
  },
  {
   "cell_type": "markdown",
   "metadata": {},
   "source": [
    "Above we can see what a vector operation looks in python. It is important to make a mental model of what these operations represent. They can be mathematically represented as follows:\n",
    "\n",
    "$\\mathbf{z} = \\mathbf{x} + \\mathbf{y} = \\begin{bmatrix} x_1 + y_1 \\\\ x_2 + y_2 \\\\ x_3 + y_3 \\end{bmatrix}$\n",
    "\n",
    "and\n",
    "\n",
    "$\\mathbf{z} = \\mathbf{x} \\cdot \\mathbf{y} = \\begin{bmatrix} x_1 \\cdot y_1 \\\\ x_2 \\cdot y_2 \\\\ x_3 \\cdot y_3 \\end{bmatrix}$\n",
    "\n",
    "where z represents the resulting vector, x and y are the vectors we are operating on, and the dot represents the operation we are performing. In the first example we are adding the vectors together and in the second example we are multiplying the vectors together. We will be using these operations a lot in the future so it is important to understand what they represent.\n",
    "\n",
    "## Matrices\n",
    "\n",
    "One step above vectors are matrices. Matrices are a collection of vectors in the form of a two dimensional array.\n"
   ]
  },
  {
   "cell_type": "code",
   "execution_count": null,
   "metadata": {},
   "outputs": [],
   "source": [
    "\n",
    "# Function to demonstrate the use of matrices\n",
    "def matrix_operations():\n",
    "    # Create a matrix\n",
    "    matrix = np.array([[1, 2, 3], [4, 5, 6], [7, 8, 9]])\n",
    "    print(\"Matrix:\", matrix)\n",
    "    \n",
    "    # Perform matrix multiplication\n",
    "    matrix2 = np.array([[10, 11, 12], [13, 14, 15], [16, 17, 18]])\n",
    "    print(\"Matrix Multiplication:\", np.matmul(matrix, matrix2))\n",
    "    \n",
    "    # Perform matrix transposition\n",
    "    print(\"Matrix Transposition:\", np.transpose(matrix))\n",
    "\n",
    "\n"
   ]
  },
  {
   "cell_type": "code",
   "execution_count": null,
   "metadata": {},
   "outputs": [],
   "source": [
    "\n",
    "# Function to demonstrate the use of tensors\n",
    "def tensor_operations():\n",
    "    # Create a tensor\n",
    "    tensor = np.array([[[1, 2, 3], [4, 5, 6], [7, 8, 9]], [[10, 11, 12], [13, 14, 15], [16, 17, 18]]])\n",
    "    print(\"Tensor:\", tensor)\n",
    "    \n",
    "    # Perform tensor addition\n",
    "    tensor2 = np.array([[[19, 20, 21], [22, 23, 24], [25, 26, 27]], [[28, 29, 30], [31, 32, 33], [34, 35, 36]]])\n",
    "    print(\"Tensor Addition:\", np.add(tensor, tensor2))\n",
    "    \n",
    "    # Perform tensor reshaping\n",
    "    print(\"Tensor Reshaping:\", np.reshape(tensor, (3, 2, 3)))\n"
   ]
  },
  {
   "cell_type": "markdown",
   "metadata": {},
   "source": []
  }
 ],
 "metadata": {
  "kernelspec": {
   "display_name": "Python 3",
   "language": "python",
   "name": "python3"
  },
  "language_info": {
   "codemirror_mode": {
    "name": "ipython",
    "version": 3
   },
   "file_extension": ".py",
   "mimetype": "text/x-python",
   "name": "python",
   "nbconvert_exporter": "python",
   "pygments_lexer": "ipython3",
   "version": "3.9.6"
  },
  "orig_nbformat": 4
 },
 "nbformat": 4,
 "nbformat_minor": 2
}
