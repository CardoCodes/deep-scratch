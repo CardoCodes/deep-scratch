{
 "cells": [
  {
   "cell_type": "markdown",
   "metadata": {},
   "source": []
  },
  {
   "cell_type": "markdown",
   "metadata": {},
   "source": [
    "# Linear Algebra\n",
    "\n",
    "The Uniform Code of Military Justice specifies court martial for any officer who sends a soldier into battle without a weapon. In a similar fashion, students should be well armed with an understanding of linear algebra beofre they are sent out to learn naural networks.\n",
    "\n",
    "\n",
    "Linear algebra is the branch of mathematics that deals with vector spaces. A vector space is a collection of objects called vectors, which may be added together and multiplied by numbers, called scalars. Vectors are often used to represent data points, such as the features of a data set. Vectors are also used to represent model parameters, such as the weights and biases of a neural network.\n",
    "\n",
    "In order to better understand linear algebra, we will first review the basic concepts of scalars, vectors, matrices, and tensors.\n",
    "\n",
    "## Scalars\n",
    "\n",
    "To put it simply a scalar is just a number. For now this is all we need to know about scalars. We will revisit them later when we discuss tensors. All you have to know is that they are usually denoted by lower case letters, such as $s$ or $n$. You will also often see the extression \"Let $s \\in \\mathbb{R}$\" which means that $s$ is a scalar and is a member of the set of real numbers, or \"Let $n \\in \\mathbb{N}$\" which means that $n$ is a scalar and is a member of the set of natural numbers.\n",
    "\n",
    "## Vectors\n",
    "\n",
    "Vectors are one step above scalars. Vectors are a collection of numbers in the form of an array. Here is an example of a vector:\n",
    "\n",
    "$x = \\begin{bmatrix} x_1 \\\\ x_2 \\\\ x_3 \\end{bmatrix}$\n",
    "\n",
    "You can think of these numbers as points in space or features in a dataset. The numbers in the vector are called the components of the vector. The number of components in a vector is called the dimension of the vector. In the example above, the vector $x$ has three components and is a three dimensional vector. Vectors are usually denoted by lower case bold letters, such as $\\mathbf{x}$ or $\\mathbf{y}$. The components of a vector are usually denoted by lower case letters with subscripts, such as $x_1$ or $y_2$. The components of a vector can be accessed by their index, such as $x[0]$ or $y[1]$.\n",
    "\n",
    "To get a better understanding of how we will be using vectors in python lets try to write a simple vector operation.\n"
   ]
  },
  {
   "cell_type": "code",
   "execution_count": 5,
   "metadata": {},
   "outputs": [
    {
     "name": "stdout",
     "output_type": "stream",
     "text": [
      "--- Vector Operations ---\n",
      "Vector 1: [1 2 3]\n",
      "Vector 2: [4 5 6]\n",
      "Vector Addition: [5 7 9]\n",
      "Vector Multiplication : [ 4 10 18]\n"
     ]
    }
   ],
   "source": [
    "import numpy as np\n",
    "\n",
    "# Function to demonstrate the use of vectors\n",
    "def vector_operations():\n",
    "    # Create a vector\n",
    "    vector = np.array([1, 2, 3])\n",
    "    print(\"Vector 1:\", vector)\n",
    "    \n",
    "    # Perform vector addition\n",
    "    vector2 = np.array([4, 5, 6])\n",
    "    print(\"Vector 2:\", vector2)\n",
    "\n",
    "    # Perform vector addition\n",
    "    print(\"Vector Addition:\", np.add(vector, vector2))\n",
    "    \n",
    "    # Perform scalar multiplication\n",
    "    print(\"Vector Multiplication :\", np.multiply(vector, vector2))\n",
    "\n",
    "print(\"--- Vector Operations ---\")\n",
    "vector_operations()\n"
   ]
  },
  {
   "cell_type": "markdown",
   "metadata": {},
   "source": [
    "Above we can see what a vector operation looks in python. It is important to make a mental model of what these operations represent. They can be mathematically represented as follows:\n",
    "\n",
    "$\\mathbf{z} = \\mathbf{x} + \\mathbf{y} = \\begin{bmatrix} x_1 + y_1 \\\\ x_2 + y_2 \\\\ x_3 + y_3 \\end{bmatrix}$\n",
    "\n",
    "and\n",
    "\n",
    "$\\mathbf{z} = \\mathbf{x} \\cdot \\mathbf{y} = \\begin{bmatrix} x_1 \\cdot y_1 \\\\ x_2 \\cdot y_2 \\\\ x_3 \\cdot y_3 \\end{bmatrix}$\n",
    "\n",
    "where $\\mathbf{z}$ represents the resulting vector, $\\mathbf{x}$ and $\\mathbf{y}$ are the vectors we are operating on, and the dot represents the operation we are performing. In the first example we are adding the vectors together and in the second example we are multiplying the vectors together. We will be using these operations a lot in the future so it is important to understand what they represent.\n",
    "\n",
    "## Matrices\n",
    "\n",
    "One step above vectors are matrices. Matrices are a collection of vectors in the form of a two dimensional array. Matrices are usualy denoted by upper case bold letters, such as $\\mathbf{X}$ or $\\mathbf{Y}$. The components of a matrix are usually denoted by lower case letters with two subscripts, such as $x_{11}$ or $y_{22}$. The components of a matrix can be accessed by their two indices, such as $x[0][0]$ or $y[1][2]$.\n",
    "\n",
    "One of the most important matrix operations is the Transpose and its defined as: Let \\$A be an $m \\times n$ matrix. The transpose of $A$ is the $n \\times m$ matrix, denoted $A^T$, whose columns are formed from the corresponding rows of $A$. In other words, if $A = [a_{ij}]$, then $A^T = [b_{ij}]$, where $b_{ij} = a_{ji}$.\n",
    "\n",
    "To better understand matrix operations we can print out the output of numpy operations such as multiplication, and transpose."
   ]
  },
  {
   "cell_type": "code",
   "execution_count": 7,
   "metadata": {},
   "outputs": [
    {
     "name": "stdout",
     "output_type": "stream",
     "text": [
      "--- Matrix Operations ---\n",
      "Matrix 1: \n",
      " [[1 2 3]\n",
      " [4 5 6]\n",
      " [7 8 9]]\n",
      "Matrix 2: \n",
      " [[10 11 12]\n",
      " [13 14 15]\n",
      " [16 17 18]]\n",
      "Matrix Multiplication: \n",
      " [[ 84  90  96]\n",
      " [201 216 231]\n",
      " [318 342 366]]\n",
      "Matrix 1 Transposition: \n",
      " [[1 4 7]\n",
      " [2 5 8]\n",
      " [3 6 9]]\n"
     ]
    }
   ],
   "source": [
    "\n",
    "# Function to demonstrate the use of matrices\n",
    "def matrix_operations():\n",
    "    # Create a matrix\n",
    "    matrix = np.array([[1, 2, 3], [4, 5, 6], [7, 8, 9]])\n",
    "    print(\"Matrix 1: \\n\", matrix)\n",
    "    \n",
    "    # Perform matrix multiplication\n",
    "    matrix2 = np.array([[10, 11, 12], [13, 14, 15], [16, 17, 18]])\n",
    "    print(\"Matrix 2: \\n\", matrix2)\n",
    "    print(\"Matrix Multiplication: \\n\", np.dot(matrix, matrix2))\n",
    "    \n",
    "    # Perform matrix transposition\n",
    "    print(\"Matrix 1 Transposition: \\n\", np.transpose(matrix))\n",
    "\n",
    "print(\"--- Matrix Operations ---\")\n",
    "matrix_operations()\n"
   ]
  },
  {
   "cell_type": "markdown",
   "metadata": {},
   "source": [
    "It is important to note that when it comes to matrix multiplication it is distriutive, associative however it is not communative. This means that the order in which you multiply matrices is important. For example, if you have two matrices $A$ and $B$, then $A \\cdot B \\neq B \\cdot A$ might not always hold. However Associative and Distributive properties do hold. For example, if you have three matrices $A$, $B$, and $C$, then $A \\cdot (B \\cdot C) = (A \\cdot B) \\cdot C$ and $A \\cdot (B + C) = A \\cdot B + A \\cdot C$.\n",
    "\n",
    "However, the dot product of two vectors is commutative. This means that if you have two vectors $\\mathbf{x}$ and $\\mathbf{y}$, then $\\mathbf{x} \\cdot \\mathbf{y} = \\mathbf{y} \\cdot \\mathbf{x}$. We will not dive deep into this but it is important to see how these operations are preformed.\n"
   ]
  },
  {
   "cell_type": "code",
   "execution_count": 11,
   "metadata": {},
   "outputs": [
    {
     "name": "stdout",
     "output_type": "stream",
     "text": [
      "--- Commutative Property ---\n",
      "Matrix 1: \n",
      " [[1 2]\n",
      " [3 4]]\n",
      "Matrix 2: \n",
      " [[5 6]\n",
      " [7 8]]\n",
      "Matrix Multiplication: \n",
      " [[19 22]\n",
      " [43 50]]\n",
      "Matrix Multiplication: \n",
      " [[23 34]\n",
      " [31 46]]\n",
      "--- Dot Product ---\n",
      "Vector 1: \n",
      " [1 2 3]\n",
      "Vector 2: \n",
      " [4 5 6]\n",
      "Dot Product: \n",
      " 32\n",
      "Dot Product: \n",
      " 32\n"
     ]
    }
   ],
   "source": [
    "\n",
    "# Function to demonstrate the commutative property of matrix multiplication\n",
    "def commutative_property():\n",
    "    # Create a matrix\n",
    "    matrix = np.array([[1, 2], [3, 4]])\n",
    "    print(\"Matrix 1: \\n\", matrix)\n",
    "    \n",
    "    # Create another matrix\n",
    "    matrix2 = np.array([[5, 6], [7, 8]])\n",
    "    print(\"Matrix 2: \\n\", matrix2)\n",
    "    \n",
    "    # Perform matrix multiplication\n",
    "\n",
    "    \n",
    "    print(\"Matrix Multiplication: \\n\", np.dot(matrix, matrix2))\n",
    "    print(\"Matrix Multiplication: \\n\", np.dot(matrix2, matrix))\n",
    "\n",
    "print(\"--- Commutative Property ---\")\n",
    "commutative_property()\n",
    "\n",
    "# Function to demonstrate the use of the dot product\n",
    "def dot_product():\n",
    "    # Create a vector\n",
    "    vector = np.array([1, 2, 3])\n",
    "    print(\"Vector 1: \\n\", vector)\n",
    "    \n",
    "    # Create another vector\n",
    "    vector2 = np.array([4, 5, 6])\n",
    "    print(\"Vector 2: \\n\", vector2)\n",
    "    \n",
    "    # Perform the dot product\n",
    "    print(\"Dot Product: \\n\", np.dot(vector, vector2))\n",
    "    print(\"Dot Product: \\n\", np.dot(vector2, vector))\n",
    "\n",
    "print(\"--- Dot Product ---\")\n",
    "dot_product()\n"
   ]
  },
  {
   "cell_type": "markdown",
   "metadata": {},
   "source": [
    "## Tensors\n",
    "\n",
    "Tensors are a generalization of vectors and matrices and are represented as multi-dimensional arrays. Tensors are usually denoted by upper case bold letters, such as $\\mathbf{X}$ or $\\mathbf{Y}$. The components of a tensor are usually denoted by lower case letters with three subscripts, such as $x_{111}$ or $y_{222}$. The components of a tensor can be accessed by their three indices, such as $x[0][0][0]$ or $y[1][2][3]$.\n",
    "\n",
    "Tensors are used to represent multi-dimensional data, such as images, which are usually represented as three-dimensional tensors. The first dimension represents the height of the image, the second dimension represents the width of the image, and the third dimension represents the color channels of the image. For example, a color image with a height of 256 pixels, a width of 256 pixels, and three color channels (red, green, and blue) can be represented as a three-dimensional tensor with a shape of (256, 256, 3).\n",
    "\n",
    "To better understand tensors we can print out the output of numpy operations such as addition, and transpose."
   ]
  },
  {
   "cell_type": "code",
   "execution_count": 9,
   "metadata": {},
   "outputs": [],
   "source": [
    "\n",
    "# Function to demonstrate the use of tensors\n",
    "def tensor_operations():\n",
    "    # Create a tensor\n",
    "    tensor = np.array([[[1, 2, 3], [4, 5, 6], [7, 8, 9]], [[10, 11, 12], [13, 14, 15], [16, 17, 18]]])\n",
    "    print(\"Tensor:\", tensor)\n",
    "    \n",
    "    # Perform tensor addition\n",
    "    tensor2 = np.array([[[19, 20, 21], [22, 23, 24], [25, 26, 27]], [[28, 29, 30], [31, 32, 33], [34, 35, 36]]])\n",
    "    print(\"Tensor Addition:\", np.add(tensor, tensor2))\n",
    "    \n",
    "    # Perform tensor reshaping\n",
    "    print(\"Tensor Reshaping:\", np.reshape(tensor, (3, 2, 3)))\n"
   ]
  },
  {
   "cell_type": "markdown",
   "metadata": {},
   "source": []
  },
  {
   "cell_type": "markdown",
   "metadata": {},
   "source": [
    "Tensor operations are similar to matrix operations. However, the order in which you multiply tensors is important. For example, if you have two tensors $A$ and $B$, then $A \\cdot B \\neq B \\cdot A$ might not always hold. However Associative and Distributive properties do hold. For example, if you have three tensors $A$, $B$, and $C$, then $A \\cdot (B \\cdot C) = (A \\cdot B) \\cdot C$ and $A \\cdot (B + C) = A \\cdot B + A \\cdot C$.\n",
    "\n",
    "## Conclusion\n",
    "\n",
    "In this notebook, we reviewed the basic concepts of scalars, vectors, matrices, and tensors. We also reviewed the basic operations of addition, subtraction, multiplication, and transpose for vectors, matrices, and tensors. We will be using these concepts and operations in the future to help build our deep learning model from scratch. "
   ]
  }
 ],
 "metadata": {
  "kernelspec": {
   "display_name": "Python 3",
   "language": "python",
   "name": "python3"
  },
  "language_info": {
   "codemirror_mode": {
    "name": "ipython",
    "version": 3
   },
   "file_extension": ".py",
   "mimetype": "text/x-python",
   "name": "python",
   "nbconvert_exporter": "python",
   "pygments_lexer": "ipython3",
   "version": "3.9.6"
  },
  "orig_nbformat": 4
 },
 "nbformat": 4,
 "nbformat_minor": 2
}
